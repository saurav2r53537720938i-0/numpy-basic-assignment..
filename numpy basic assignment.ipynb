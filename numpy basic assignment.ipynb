{
 "cells": [
  {
   "cell_type": "code",
   "execution_count": 1,
   "id": "c035dde0-2963-46db-be95-4b0038b95157",
   "metadata": {},
   "outputs": [
    {
     "ename": "SyntaxError",
     "evalue": "invalid syntax (2214343266.py, line 1)",
     "output_type": "error",
     "traceback": [
      "\u001b[0;36m  Cell \u001b[0;32mIn[1], line 1\u001b[0;36m\u001b[0m\n\u001b[0;31m    public class Main {\u001b[0m\n\u001b[0m           ^\u001b[0m\n\u001b[0;31mSyntaxError\u001b[0m\u001b[0;31m:\u001b[0m invalid syntax\n"
     ]
    }
   ],
   "source": [
    "public class Main {\n",
    "    public static void\n",
    "main(string[] args) {\n",
    "    // Variable list (array)\n",
    "    int[] variableList = {1,2,3};\n",
    "    \n",
    "system.out.println(\"Datatype of variable list: \"+\n",
    "                   variableList.getClass().getSimpleName());\n",
    "    \n",
    "        // ArrayList\n",
    "    ArrayList<Integer>\n",
    "arrayList = new Arraylist<>();\n",
    "    \n",
    "system.out.println(\"Datatype of ArrayList: \"+\n",
    "                   arrayList.getClass().getSimpleName());\n",
    "}\n",
    "}"
   ]
  },
  {
   "cell_type": "code",
   "execution_count": 2,
   "id": "66a3c049-3298-418b-9ea3-84924b04bac8",
   "metadata": {},
   "outputs": [
    {
     "ename": "SyntaxError",
     "evalue": "unterminated string literal (detected at line 11) (930582737.py, line 11)",
     "output_type": "error",
     "traceback": [
      "\u001b[0;36m  Cell \u001b[0;32mIn[2], line 11\u001b[0;36m\u001b[0m\n\u001b[0;31m    array_list = np.array([1,2,5,hello\",True,[1,2,3]])\u001b[0m\n\u001b[0m                                      ^\u001b[0m\n\u001b[0;31mSyntaxError\u001b[0m\u001b[0;31m:\u001b[0m unterminated string literal (detected at line 11)\n"
     ]
    }
   ],
   "source": [
    "import numpy as np\n",
    "\n",
    "# Regular list\n",
    "regular_list = [1,2,5,\"hello\",True,[1,2,3]]\n",
    "\n",
    "print(\"Data typesin regular list:\")\n",
    "for item in regular_list:\n",
    "    print(type(item))\n",
    "\n",
    "# Numpy array\n",
    "array_list = np.array([1,2,5,hello\",True,[1,2,3]])\n",
    "                \n",
    "                print(\"\\nData types in Numpy array:\")\n",
    "                       for item in array_list.flatten():\n",
    "                       print(type(item))"
   ]
  },
  {
   "cell_type": "code",
   "execution_count": 3,
   "id": "8df88640-130d-4f34-ae02-ac613ffcb633",
   "metadata": {},
   "outputs": [
    {
     "ename": "SyntaxError",
     "evalue": "unterminated string literal (detected at line 12) (29964791.py, line 12)",
     "output_type": "error",
     "traceback": [
      "\u001b[0;36m  Cell \u001b[0;32mIn[3], line 12\u001b[0;36m\u001b[0m\n\u001b[0;31m    print(f\"Element {i+1} in\u001b[0m\n\u001b[0m          ^\u001b[0m\n\u001b[0;31mSyntaxError\u001b[0m\u001b[0;31m:\u001b[0m unterminated string literal (detected at line 12)\n"
     ]
    }
   ],
   "source": [
    "import numpy as np\n",
    "\n",
    "# suppose npArray is a Numpy array\n",
    "npArray = np.array([1,2,3])\n",
    "\n",
    "# Convert npArray to a python list and store it an ArrayList\n",
    "ArrayList = list(npArray)\n",
    "\n",
    "# Print the data types of each element in both list and ArrayList\n",
    "for i,(elem_list,elem_ArrayList)\n",
    "in enumerate(zip(list(npArray),ArrayList)):\n",
    "    print(f\"Element {i+1} in\n",
    "          list:\",type(elem_list))\n",
    "          print(f\"Element{i+1} in\n",
    "                ArrayList:\",type(elem_ArrayList))"
   ]
  },
  {
   "cell_type": "code",
   "execution_count": 4,
   "id": "d4054ead-ffb0-4be7-a1b0-5991dae7af93",
   "metadata": {},
   "outputs": [
    {
     "name": "stdout",
     "output_type": "stream",
     "text": [
      "Array:\n",
      "[[1 2 3]\n",
      " [4 5 6]]\n",
      "\n",
      "shape:\n",
      "(2, 3)\n",
      "\n",
      "size:\n",
      "6\n"
     ]
    }
   ],
   "source": [
    "import numpy as np\n",
    "\n",
    "# Suppose number_array is a NumPy array\n",
    "number_array = np.array([[1,2,3],[4,5,6]])\n",
    "\n",
    "# Find array\n",
    "print(\"Array:\")\n",
    "print(number_array)\n",
    "\n",
    "# Find shape\n",
    "print(\"\\nshape:\")\n",
    "print(number_array.shape)\n",
    "\n",
    "# Find size\n",
    "print(\"\\nsize:\")\n",
    "print(number_array.size)"
   ]
  },
  {
   "cell_type": "code",
   "execution_count": 5,
   "id": "d3c081c7-1053-40c4-9b73-16c6ec79a5b8",
   "metadata": {},
   "outputs": [
    {
     "ename": "NameError",
     "evalue": "name 'clos' is not defined",
     "output_type": "error",
     "traceback": [
      "\u001b[0;31m---------------------------------------------------------------------------\u001b[0m",
      "\u001b[0;31mNameError\u001b[0m                                 Traceback (most recent call last)",
      "Cell \u001b[0;32mIn[5], line 6\u001b[0m\n\u001b[1;32m      3\u001b[0m \u001b[38;5;28;01mdef\u001b[39;00m \u001b[38;5;21mcreate_zero_matrix\u001b[39m(rows,cols):\n\u001b[1;32m      4\u001b[0m     \u001b[38;5;28;01mreturn\u001b[39;00m np\u001b[38;5;241m.\u001b[39mzeros((rows,clos))\n\u001b[0;32m----> 6\u001b[0m matrix \u001b[38;5;241m=\u001b[39m \u001b[43mcreate_zero_matrix\u001b[49m\u001b[43m(\u001b[49m\u001b[38;5;241;43m3\u001b[39;49m\u001b[43m,\u001b[49m\u001b[38;5;241;43m3\u001b[39;49m\u001b[43m)\u001b[49m\n\u001b[1;32m      7\u001b[0m \u001b[38;5;28mprint\u001b[39m(matrix)\n",
      "Cell \u001b[0;32mIn[5], line 4\u001b[0m, in \u001b[0;36mcreate_zero_matrix\u001b[0;34m(rows, cols)\u001b[0m\n\u001b[1;32m      3\u001b[0m \u001b[38;5;28;01mdef\u001b[39;00m \u001b[38;5;21mcreate_zero_matrix\u001b[39m(rows,cols):\n\u001b[0;32m----> 4\u001b[0m     \u001b[38;5;28;01mreturn\u001b[39;00m np\u001b[38;5;241m.\u001b[39mzeros((rows,\u001b[43mclos\u001b[49m))\n",
      "\u001b[0;31mNameError\u001b[0m: name 'clos' is not defined"
     ]
    }
   ],
   "source": [
    "import numpy as np\n",
    "\n",
    "def create_zero_matrix(rows,cols):\n",
    "    return np.zeros((rows,clos))\n",
    "\n",
    "matrix = create_zero_matrix(3,3)\n",
    "print(matrix)"
   ]
  },
  {
   "cell_type": "code",
   "execution_count": null,
   "id": "9862a96d-f006-4c66-8529-5f1cb811e544",
   "metadata": {},
   "outputs": [],
   "source": [
    "import numpy as np\n",
    "\n",
    "identity_matr"
   ]
  }
 ],
 "metadata": {
  "kernelspec": {
   "display_name": "Python 3 (ipykernel)",
   "language": "python",
   "name": "python3"
  },
  "language_info": {
   "codemirror_mode": {
    "name": "ipython",
    "version": 3
   },
   "file_extension": ".py",
   "mimetype": "text/x-python",
   "name": "python",
   "nbconvert_exporter": "python",
   "pygments_lexer": "ipython3",
   "version": "3.10.8"
  }
 },
 "nbformat": 4,
 "nbformat_minor": 5
}
